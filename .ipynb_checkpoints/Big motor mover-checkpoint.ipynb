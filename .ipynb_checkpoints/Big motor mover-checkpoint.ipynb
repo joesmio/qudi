{
 "cells": [
  {
   "cell_type": "code",
   "execution_count": 2,
   "metadata": {
    "collapsed": false
   },
   "outputs": [],
   "source": [
    "import serial\n",
    "\n",
    "class motorController(serial.Serial):\n",
    "    '''\n",
    "    Python class for controlling 2-axis stepper motor for broad piezo scans\n",
    "    '''\n",
    "\n",
    "   \n",
    "    def __init__(self, MAX_VOLTAGE=75.0, port='COM10', baudrate=115200):\n",
    "\n",
    "        self.MAX_VOLTAGE = MAX_VOLTAGE\n",
    "\n",
    "        # Initialise the class using super class of (py)serial\n",
    "        serial.Serial.__init__(self, port, baudrate, bytesize=serial.EIGHTBITS, parity=serial.PARITY_NONE,\n",
    "                               stopbits=serial.STOPBITS_ONE, timeout=0.3)\n",
    "\n",
    "            # Close any open connections and open a serial connection\n",
    "            # self.close()\n",
    "            # self.open()\n",
    "\n",
    "    def cmd(self, command, verbose=False):\n",
    "        '''\n",
    "        Send a command to the Arduino\n",
    "        '''\n",
    "        # logging.info(str(command))\n",
    "        #tick = time.perf_counter()\n",
    "        try:\n",
    "            self.write((bytes(command + '\\n', 'utf8')))\n",
    "        except  serial.serialutil.SerialTimeoutException:\n",
    "            logging.error('Serial timeout exception when writing')\n",
    "\n",
    "        # Have a timeout so that writing successive strings does not interrupt\n",
    "        # the last command\n",
    "        #logging.info(command)\n",
    "        num = 1\n",
    "        while (num < 1):\n",
    "            num = self.out_waiting()\n",
    "        #tock = time.perf_counter() - tick\n",
    "        #logging.info(tock)\n",
    "\n",
    "    def response(self):\n",
    "        '''\n",
    "        Get response and convert to a float if there's a match\n",
    "        '''\n",
    "\n",
    "        # resp = self.read()\n",
    "        # # logging.info(resp)\n",
    "        # if resp is b'':\n",
    "        #     return\n",
    "        #\n",
    "        # # Loop until we hit the end line character\n",
    "        # while resp[-1] is not '\\r':\n",
    "        #     r = self.read()\n",
    "        #     # logging.info(r)\n",
    "        #     resp.append(r)\n",
    "        #     if r == b'':\n",
    "        #         break\n",
    "\n",
    "        resp = []\n",
    "        bytesToRead = 1\n",
    "        while (bytesToRead > 0) :\n",
    "            bytesToRead = self.inWaiting()\n",
    "            resp.append( self.read(bytesToRead))\n",
    "\n",
    "        print(resp)\n",
    "        # Search the response to extract the number\n",
    "        regex = r'[+-]?(\\d+(\\.\\d*)?|\\.\\d+)([eE][+-]?\\d+)?'\n",
    "\n",
    "        found = re.findall(regex, str(resp))\n",
    "        # print found\n",
    "        if len(found) > 0:\n",
    "            result = float(found[0][0])\n",
    "            return result\n",
    "        else:\n",
    "            return 0\n"
   ]
  },
  {
   "cell_type": "code",
   "execution_count": 3,
   "metadata": {
    "collapsed": false
   },
   "outputs": [],
   "source": [
    "bigmotor= SRSController(port = 'COM6', baudrate=9600)"
   ]
  },
  {
   "cell_type": "code",
   "execution_count": 22,
   "metadata": {
    "collapsed": true
   },
   "outputs": [],
   "source": [
    "# First value +ve is sample moving down on camera (camera up)\n",
    "# Second value +ve is sample moving left (camera right)\n",
    "\n",
    "# MOVE BY 16 to change datamatrix\n",
    "\n",
    "bigmotor.cmd(\"2,0\")"
   ]
  },
  {
   "cell_type": "code",
   "execution_count": 11,
   "metadata": {
    "collapsed": true
   },
   "outputs": [],
   "source": [
    "# import time\n",
    "# for i in range(1,100):\n",
    "#     motor.cmd(\"40,0\")\n",
    "#     time.sleep(3)\n",
    "#     motor.cmd(\"-40,0\")\n",
    "#     time.sleep(3)"
   ]
  },
  {
   "cell_type": "code",
   "execution_count": 12,
   "metadata": {
    "collapsed": true
   },
   "outputs": [],
   "source": [
    "# 4 steps in 10 um. 16 microsteps in one step\n",
    "# 20 steps in 50 um\n",
    "# 500 um \n",
    "# 200 steps so 200*16 = 3200 steps\n",
    "\n",
    "# Currently int is 32,767 max value\n",
    "\n",
    "# (I messed up here by an order of magnitude and tried to move by 32000)\n",
    "# I still think 3200 way to much. 16 by 16 moves data matrix so micro steps must only be 2 times\n"
   ]
  },
  {
   "cell_type": "code",
   "execution_count": 85,
   "metadata": {
    "collapsed": false
   },
   "outputs": [],
   "source": [
    "bigmotor.__del__()"
   ]
  },
  {
   "cell_type": "code",
   "execution_count": 79,
   "metadata": {
    "collapsed": false
   },
   "outputs": [
    {
     "name": "stderr",
     "output_type": "stream",
     "text": [
      "Traceback (most recent call last):\n",
      "  File \"C:\\Users\\it064639-admin\\qudi\\gui\\confocal\\confocalgui.py\", line 1662, in refresh_scan_line\n",
      "    self.scan_line_plot.setData(self._scanning_logic.depth_image[sc, :, 0:4:3])\n",
      "IndexError: index 139 is out of bounds for axis 0 with size 50\n"
     ]
    }
   ],
   "source": [
    "import time\n",
    "\n",
    "zval = 0\n",
    "#scanner.set_position('Change pos',z=zval)\n",
    "scanner.start_scanning()\n",
    "time.sleep(2)\n",
    "while zval <= 10 :\n",
    "    while scanner.module_state() is 'locked':\n",
    "        time.sleep(3)\n",
    "    if scanner.module_state() is 'idle':\n",
    "        scanner.save_xy_data()\n",
    "        time.sleep(5)\n",
    "        zval += 1\n",
    "        bigmotor.cmd(\"16,0\")\n",
    "        #scanner.set_position('Change pos',z=zval)\n",
    "        time.sleep(5)\n",
    "        scanner.start_scanning()\n",
    "        time.sleep(5)\n",
    "    else:\n",
    "        time.sleep(2)"
   ]
  },
  {
   "cell_type": "code",
   "execution_count": null,
   "metadata": {
    "collapsed": true
   },
   "outputs": [],
   "source": [
    " bigmotor.cmd(\"-16,0\")"
   ]
  },
  {
   "cell_type": "code",
   "execution_count": null,
   "metadata": {
    "collapsed": true
   },
   "outputs": [],
   "source": []
  }
 ],
 "metadata": {
  "kernelspec": {
   "display_name": "Qudi",
   "language": "python",
   "name": "qudi"
  },
  "language_info": {
   "codemirror_mode": {
    "name": "ipython",
    "version": "3.6.0"
   },
   "file_extension": ".py",
   "mimetype": "text/x-python",
   "name": "python",
   "nbconvert_exporter": "python",
   "pygments_lexer": "ipython3",
   "version": "3.6.0"
  }
 },
 "nbformat": 4,
 "nbformat_minor": 2
}
