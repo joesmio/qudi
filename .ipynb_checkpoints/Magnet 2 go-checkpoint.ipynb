{
 "cells": [
  {
   "cell_type": "code",
   "execution_count": 26,
   "metadata": {
    "collapsed": false
   },
   "outputs": [
    {
     "data": {
      "text/plain": [
       "[[2.94, 1.96, 0.98],\n",
       " [1.96, -0.98, 0.98],\n",
       " [0.0, 2.94, 0.0],\n",
       " [-1.96, -0.98, 0.0],\n",
       " [0.0, -1.96, 0.0],\n",
       " [1.96, 4.9, 1.96],\n",
       " [-1.96, 2.94, -0.98],\n",
       " [1.96, 0.98, 0.0],\n",
       " [3.92, 1.96, -0.98],\n",
       " [0.98, 1.96, 0.98],\n",
       " [0.98, 2.94, 0.0],\n",
       " [0.98, 2.94, 0.0],\n",
       " [0.98, 0.0, -0.98],\n",
       " [1.96, 3.92, -0.98],\n",
       " [0.0, 3.92, -0.98],\n",
       " [0.0, 1.96, 0.0],\n",
       " [-1.96, 1.96, -0.98],\n",
       " [-5.88, 1.96, 0.0],\n",
       " [1.96, 3.92, 0.98],\n",
       " [0.98, -0.98, 0.0],\n",
       " [0.0, 4.9, 0.0],\n",
       " [0.98, -0.98, 0.98],\n",
       " [0.98, 3.92, 0.0],\n",
       " [1.96, 1.96, -1.96],\n",
       " [1.96, 0.0, 0.98],\n",
       " [0.0, 0.98, 0.98],\n",
       " [2.94, 3.92, 1.96],\n",
       " [-2.94, 0.98, -0.98],\n",
       " [-0.98, 0.0, -0.98],\n",
       " [0.0, 1.96, -0.98],\n",
       " [1.96, 2.94, -0.98],\n",
       " [0.98, 1.96, -0.98],\n",
       " [-0.98, 0.98, -1.96],\n",
       " [0.98, 0.98, -0.98],\n",
       " [1.96, 0.0, 0.0],\n",
       " [0.0, 1.96, 0.0],\n",
       " [0.98, 3.92, 0.0],\n",
       " [2.94, -0.98, 0.0],\n",
       " [0.0, 0.98, 0.0],\n",
       " [2.94, 1.96, 0.98],\n",
       " [3.92, -0.98, -0.98],\n",
       " [3.92, 0.98, 0.0],\n",
       " [0.0, 1.96, 0.0],\n",
       " [0.0, 3.994, 1.96],\n",
       " [0.98, 0.98, -0.98],\n",
       " [-1.96, 0.0, 0.0],\n",
       " [0.0, 1.96, 0.0],\n",
       " [2.94, 0.0, -0.98],\n",
       " [3.92, 2.94, -0.98],\n",
       " [0.98, 3.92, -0.98],\n",
       " [0.98, 1.96, -1.96],\n",
       " [-0.98, 0.98, -0.98],\n",
       " [0.0, 1.96, -0.98],\n",
       " [-0.98, 0.98, 0.98],\n",
       " [-0.98, 0.98, 0.98],\n",
       " [0.98, 0.98, 0.0],\n",
       " [1.96, 1.96, 0.98],\n",
       " [0.0, 0.98, -0.98],\n",
       " [0.98, 5.88, 0.0],\n",
       " [0.0, 3.92, -0.98],\n",
       " [-3.92, 1.96, 1.96],\n",
       " [0.0, 2.94, 0.0],\n",
       " [-0.98, 2.94, -0.98],\n",
       " [0.98, 0.98, 0.0],\n",
       " [0.0, 0.98, 0.0],\n",
       " [1.96, 0.98, -0.98],\n",
       " [2.94, -0.98, 0.0],\n",
       " [2.94, 1.96, -1.96],\n",
       " [1.96, 0.98, 0.0],\n",
       " [1.96, 0.98, 0.0],\n",
       " [0.0, 0.0, 0.0],\n",
       " [-0.98, 2.94, 0.0],\n",
       " [0.0, 0.0, -0.98],\n",
       " [0.98, 0.98, -0.98],\n",
       " [-0.98, 3.92, 0.0],\n",
       " [0.98, 0.98, 0.0],\n",
       " [0.98, 0.0, 0.98],\n",
       " [1.96, 2.94, -0.98],\n",
       " [0.98, 1.96, -1.96],\n",
       " [3.92, 2.94, 0.0],\n",
       " [0.98, 1.96, 0.0],\n",
       " [1.96, 1.96, -0.98],\n",
       " [0.0, 1.96, -0.98],\n",
       " [2.94, 1.96, 0.0],\n",
       " [-1.96, 1.96, -1.96],\n",
       " [2.94, 2.94, 0.0],\n",
       " [1.96, 2.94, -1.96],\n",
       " [1.96, 3.92, -0.98],\n",
       " [1.96, 2.94, 0.0],\n",
       " [0.98, 0.0, -1.96],\n",
       " [0.98, 0.0, 0.0],\n",
       " [0.98, -0.98, 0.98],\n",
       " [0.98, 2.94, 0.0],\n",
       " [0.98, 4.9, -1.96],\n",
       " [1.96, 1.96, 0.0],\n",
       " [2.94, 1.96, 0.0],\n",
       " [-0.98, 0.0, 0.0],\n",
       " [0.98, 3.92, -0.98],\n",
       " [0.98, 0.98, 0.98]]"
      ]
     },
     "execution_count": 26,
     "metadata": {},
     "output_type": "execute_result"
    }
   ],
   "source": [
    "# Creates distribution of 1000 measurements\n",
    "\n",
    "import visa\n",
    "import json \n",
    "rm = visa.ResourceManager()\n",
    "mag = rm.open_resource('COM15')\n",
    "\n",
    "field = []\n",
    "for i in range(1,100):\n",
    "    #field.append(mag.read().rstrip().split(';'))\n",
    "    field.append([float(j) for j in mag.read().rstrip().strip().split(';')])\n"
   ]
  },
  {
   "cell_type": "code",
   "execution_count": null,
   "metadata": {
    "collapsed": true
   },
   "outputs": [],
   "source": []
  },
  {
   "cell_type": "code",
   "execution_count": 28,
   "metadata": {
    "collapsed": false
   },
   "outputs": [
    {
     "ename": "TypeError",
     "evalue": "list indices must be integers or slices, not tuple",
     "output_type": "error",
     "traceback": [
      "\u001b[0;31m---------------------------------------------------------------------------\u001b[0m",
      "\u001b[0;31mTypeError\u001b[0m                                 Traceback (most recent call last)",
      "\u001b[0;32m<ipython-input-28-b68639f2b52f>\u001b[0m in \u001b[0;36m<module>\u001b[0;34m()\u001b[0m\n\u001b[0;32m----> 1\u001b[0;31m \u001b[0mfield\u001b[0m\u001b[1;33m[\u001b[0m\u001b[1;36m1\u001b[0m\u001b[1;33m,\u001b[0m\u001b[1;33m:\u001b[0m\u001b[1;33m]\u001b[0m\u001b[1;33m\u001b[0m\u001b[0m\n\u001b[0m",
      "\u001b[0;31mTypeError\u001b[0m: list indices must be integers or slices, not tuple"
     ]
    }
   ],
   "source": [
    "field[1,:]"
   ]
  },
  {
   "cell_type": "code",
   "execution_count": 34,
   "metadata": {
    "collapsed": false
   },
   "outputs": [
    {
     "data": {
      "image/png": "[encoded data removed]",
      "text/plain": [
       "<matplotlib.figure.Figure at 0x7e420f0>"
      ]
     },
     "metadata": {},
     "output_type": "display_data"
    }
   ],
   "source": [
    "import numpy as np\n",
    "import matplotlib.pyplot as plt\n",
    "field = np.array(field)\n",
    "\n",
    "plt.hist(field[:,1])\n",
    "plt.show()"
   ]
  },
  {
   "cell_type": "code",
   "execution_count": 35,
   "metadata": {
    "collapsed": false
   },
   "outputs": [
    {
     "data": {
      "image/png": "[encoded data removed]",
      "text/plain": [
       "<matplotlib.figure.Figure at 0x2575240>"
      ]
     },
     "metadata": {},
     "output_type": "display_data"
    }
   ],
   "source": [
    "plt.hist(field[:,2])\n",
    "plt.show()"
   ]
  },
  {
   "cell_type": "code",
   "execution_count": 43,
   "metadata": {
    "collapsed": false
   },
   "outputs": [
    {
     "data": {
      "image/png": "[encoded data removed]",
      "text/plain": [
       "<matplotlib.figure.Figure at 0x8ec79e8>"
      ]
     },
     "metadata": {},
     "output_type": "display_data"
    }
   ],
   "source": [
    "plt.subplot(1, 3, 1)\n",
    "plt.hist(field[:,0])\n",
    "\n",
    "plt.subplot(1, 3, 2)\n",
    "plt.hist(field[:,1])\n",
    "\n",
    "plt.subplot(1, 3, 3)\n",
    "plt.hist(field[:,2])\n",
    "plt.show()"
   ]
  },
  {
   "cell_type": "code",
   "execution_count": 131,
   "metadata": {
    "collapsed": false
   },
   "outputs": [
    {
     "data": {
      "image/png": "[encoded data removed]",
      "text/plain": [
       "<matplotlib.figure.Figure at 0xadd9898>"
      ]
     },
     "metadata": {},
     "output_type": "display_data"
    }
   ],
   "source": [
    "x = []\n",
    "y = []\n",
    "z = []\n",
    "for i in range(1,500):\n",
    "    #field.append(mag.read().rstrip().split(';'))\n",
    "    #print(mag.read(termination = '\\r\\n'))\n",
    "    try:\n",
    "        data = mag.read(termination = '\\r\\n').strip().split(';')\n",
    "        x.append(float(data[0]))\n",
    "        y.append(float(data[1]))\n",
    "        z.append(float(data[2]))\n",
    "    except (IndexError, ValueError):\n",
    "        break\n",
    "\n",
    "(mu, sigma) = norm.fit(x)\n",
    "\n",
    "plt.subplot(1, 3, 1)\n",
    "plt.hist(x,bins=6)\n",
    "plt.title(r'$\\mathrm{x:}\\ \\mu=%.3f,\\ \\sigma=%.3f$' %(mu, sigma))\n",
    "\n",
    "\n",
    "(mu, sigma) = norm.fit(y)\n",
    "\n",
    "plt.subplot(1, 3, 2)\n",
    "plt.hist(y,bins=6)\n",
    "plt.title(r'$\\mathrm{ y:}\\ \\mu=%.3f,\\ \\sigma=%.3f$' %(mu, sigma))\n",
    "plt.xlabel('Field (mT)')\n",
    "(mu, sigma) = norm.fit(z)\n",
    "\n",
    "plt.subplot(1, 3, 3)\n",
    "plt.hist(z,bins=6)\n",
    "plt.title(r'$\\mathrm{ z:}\\ \\mu=%.3f,\\ \\sigma=%.3f$' %(mu, sigma))\n",
    "plt.tight_layout()\n",
    "\n",
    "plt.show()"
   ]
  },
  {
   "cell_type": "code",
   "execution_count": 50,
   "metadata": {
    "collapsed": false
   },
   "outputs": [],
   "source": [
    "from scipy.stats import norm\n",
    "\n",
    "(mu, sigma) = norm.fit(field[:,1])"
   ]
  },
  {
   "cell_type": "code",
   "execution_count": 117,
   "metadata": {
    "collapsed": false
   },
   "outputs": [
    {
     "data": {
      "text/plain": [
       "[' 0.10',\n",
       " ' 0.00',\n",
       " ' 0.00',\n",
       " ' 0.10',\n",
       " ' 0.00',\n",
       " ' 0.00',\n",
       " ' 0.00',\n",
       " ' 0.00',\n",
       " ' 0.00',\n",
       " ' -0.10',\n",
       " ' -0.10',\n",
       " ' 0.00',\n",
       " ' 0.00',\n",
       " ' -0.10',\n",
       " ' -0.10',\n",
       " ' -0.10',\n",
       " ' -0.20',\n",
       " ' 0.00',\n",
       " ' 0.00',\n",
       " ' -0.10',\n",
       " ' -0.10',\n",
       " ' 0.00',\n",
       " ' 0.00',\n",
       " ' 0.00',\n",
       " ' 0.10',\n",
       " ' 0.00',\n",
       " ' 0.00',\n",
       " ' 0.10',\n",
       " ' -0.10',\n",
       " ' -0.10',\n",
       " ' 0.00',\n",
       " ' -0.10',\n",
       " ' 0.00',\n",
       " ' 0.00',\n",
       " ' 0.00',\n",
       " ' -0.10',\n",
       " ' -0.10',\n",
       " ' 0.00',\n",
       " ' 0.00',\n",
       " ' 0.00',\n",
       " ' 0.10',\n",
       " ' 0.00',\n",
       " ' 0.10',\n",
       " ' 0.20 ',\n",
       " ' -0.10',\n",
       " ' -0.10',\n",
       " ' 0.10',\n",
       " ' -0.20',\n",
       " ' 0.00',\n",
       " ' -0.20',\n",
       " ' 0.10',\n",
       " ' 0.00',\n",
       " ' 0.00',\n",
       " ' 0.10',\n",
       " ' 0.10',\n",
       " ' -0.29',\n",
       " ' 0.00',\n",
       " ' -0.10',\n",
       " ' 0.10',\n",
       " ' 0.00',\n",
       " ' 0.10',\n",
       " ' -0.10',\n",
       " ' -0.10',\n",
       " ' -0.10',\n",
       " ' 0.10',\n",
       " ' -0.10',\n",
       " ' 0.00',\n",
       " ' -0.10',\n",
       " ' -0.10',\n",
       " ' -0.20',\n",
       " ' 0.10',\n",
       " ' -0.10',\n",
       " ' 0.10',\n",
       " ' 0.00',\n",
       " ' 0.10',\n",
       " ' 0.00',\n",
       " ' 0.00',\n",
       " ' -0.10',\n",
       " ' 0.00',\n",
       " ' 0.00',\n",
       " ' 0.00',\n",
       " ' -0.10',\n",
       " ' 0.00',\n",
       " ' 0.00',\n",
       " ' -0.10',\n",
       " ' -0.20',\n",
       " ' -0.10',\n",
       " ' 0.10',\n",
       " ' 0.00',\n",
       " ' -0.10',\n",
       " ' -0.20',\n",
       " ' 0.10',\n",
       " ' 0.29',\n",
       " ' 0.10',\n",
       " ' 0.00',\n",
       " ' 0.10',\n",
       " ' -0.10',\n",
       " ' 0.00',\n",
       " ' -0.10']"
      ]
     },
     "execution_count": 117,
     "metadata": {},
     "output_type": "execute_result"
    }
   ],
   "source": [
    "z"
   ]
  },
  {
   "cell_type": "code",
   "execution_count": 52,
   "metadata": {
    "collapsed": false
   },
   "outputs": [
    {
     "data": {
      "text/plain": [
       "1.7763568394002505e-15"
      ]
     },
     "execution_count": 52,
     "metadata": {},
     "output_type": "execute_result"
    }
   ],
   "source": [
    "sigma"
   ]
  },
  {
   "cell_type": "code",
   "execution_count": 53,
   "metadata": {
    "collapsed": false
   },
   "outputs": [
    {
     "data": {
      "text/plain": [
       "array([ 4.9,  4.9,  4.9,  4.9,  4.9,  4.9,  4.9,  4.9,  4.9,  4.9,  4.9,\n",
       "        4.9,  4.9,  4.9,  4.9,  4.9,  4.9,  4.9,  4.9,  4.9,  4.9,  4.9,\n",
       "        4.9,  4.9,  4.9,  4.9,  4.9,  4.9,  4.9,  4.9,  4.9,  4.9,  4.9,\n",
       "        4.9,  4.9,  4.9,  4.9,  4.9,  4.9,  4.9,  4.9,  4.9,  4.9,  4.9,\n",
       "        4.9,  4.9,  4.9,  4.9,  4.9,  4.9,  4.9,  4.9,  4.9,  4.9,  4.9,\n",
       "        4.9,  4.9,  4.9,  4.9,  4.9,  4.9,  4.9,  4.9,  4.9,  4.9,  4.9,\n",
       "        4.9,  4.9,  4.9,  4.9,  4.9,  4.9,  4.9,  4.9,  4.9,  4.9,  4.9,\n",
       "        4.9,  4.9,  4.9,  4.9,  4.9,  4.9,  4.9,  4.9,  4.9,  4.9,  4.9,\n",
       "        4.9,  4.9,  4.9,  4.9,  4.9,  4.9,  4.9,  4.9,  4.9,  4.9,  4.9])"
      ]
     },
     "execution_count": 53,
     "metadata": {},
     "output_type": "execute_result"
    }
   ],
   "source": [
    "field[:,1]"
   ]
  },
  {
   "cell_type": "code",
   "execution_count": null,
   "metadata": {
    "collapsed": true
   },
   "outputs": [],
   "source": []
  }
 ],
 "metadata": {
  "anaconda-cloud": {},
  "kernelspec": {
   "display_name": "Python [conda env:qudi]",
   "language": "python",
   "name": "conda-env-qudi-py"
  },
  "language_info": {
   "codemirror_mode": {
    "name": "ipython",
    "version": 3
   },
   "file_extension": ".py",
   "mimetype": "text/x-python",
   "name": "python",
   "nbconvert_exporter": "python",
   "pygments_lexer": "ipython3",
   "version": "3.6.0"
  }
 },
 "nbformat": 4,
 "nbformat_minor": 1
}
